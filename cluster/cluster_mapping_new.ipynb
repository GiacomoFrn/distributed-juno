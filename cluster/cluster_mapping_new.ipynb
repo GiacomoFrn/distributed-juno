{
 "cells": [
  {
   "cell_type": "code",
   "execution_count": 1,
   "id": "a33022ed-f98d-4931-98fb-8b247e3ce570",
   "metadata": {},
   "outputs": [],
   "source": [
    "from dask.distributed import Client, SSHCluster\n",
    "import sys\n",
    "import dask\n",
    "import pandas as pd\n",
    "import numpy as np\n",
    "import matplotlib.pyplot as plt\n",
    "from tqdm import tqdm\n",
    "import dask.dataframe as dd\n",
    "import dask.array as da\n",
    "import dask.bag as db\n",
    "import matplotlib.pyplot as plt\n",
    "\n",
    "from dask import delayed"
   ]
  },
  {
   "cell_type": "markdown",
   "id": "8697ccfd-c3d9-480b-9473-d760ab5809f2",
   "metadata": {},
   "source": [
    "## DASK CLUSTER"
   ]
  },
  {
   "cell_type": "code",
   "execution_count": 2,
   "id": "056069e0-ea94-4aeb-b5bb-cfcdbe3baefc",
   "metadata": {},
   "outputs": [
    {
     "name": "stderr",
     "output_type": "stream",
     "text": [
      "distributed.deploy.ssh - INFO - distributed.http.proxy - INFO - To route to workers diagnostics web server please install jupyter-server-proxy: python -m pip install jupyter-server-proxy\n",
      "distributed.deploy.ssh - INFO - distributed.scheduler - INFO - Clear task state\n",
      "distributed.deploy.ssh - INFO - distributed.scheduler - INFO -   Scheduler at:   tcp://10.67.22.39:46487\n",
      "distributed.deploy.ssh - INFO - distributed.nanny - INFO -         Start Nanny at: 'tcp://10.67.22.91:40963'\n",
      "distributed.deploy.ssh - INFO - distributed.nanny - INFO -         Start Nanny at: 'tcp://10.67.22.91:37815'\n",
      "distributed.deploy.ssh - INFO - distributed.nanny - INFO -         Start Nanny at: 'tcp://10.67.22.91:33075'\n",
      "distributed.deploy.ssh - INFO - distributed.nanny - INFO -         Start Nanny at: 'tcp://10.67.22.91:40391'\n",
      "distributed.deploy.ssh - INFO - distributed.nanny - INFO -         Start Nanny at: 'tcp://10.67.22.74:37625'\n",
      "distributed.deploy.ssh - INFO - distributed.nanny - INFO -         Start Nanny at: 'tcp://10.67.22.74:33395'\n",
      "distributed.deploy.ssh - INFO - distributed.nanny - INFO -         Start Nanny at: 'tcp://10.67.22.74:42733'\n",
      "distributed.deploy.ssh - INFO - distributed.nanny - INFO -         Start Nanny at: 'tcp://10.67.22.74:35485'\n",
      "distributed.deploy.ssh - INFO - distributed.nanny - INFO -         Start Nanny at: 'tcp://10.67.22.60:42101'\n",
      "distributed.deploy.ssh - INFO - distributed.nanny - INFO -         Start Nanny at: 'tcp://10.67.22.60:39199'\n",
      "distributed.deploy.ssh - INFO - distributed.nanny - INFO -         Start Nanny at: 'tcp://10.67.22.60:43531'\n",
      "distributed.deploy.ssh - INFO - distributed.nanny - INFO -         Start Nanny at: 'tcp://10.67.22.60:34251'\n",
      "distributed.deploy.ssh - INFO - distributed.nanny - INFO -         Start Nanny at: 'tcp://10.67.22.27:45137'\n",
      "distributed.deploy.ssh - INFO - distributed.nanny - INFO -         Start Nanny at: 'tcp://10.67.22.27:35543'\n",
      "distributed.deploy.ssh - INFO - distributed.nanny - INFO -         Start Nanny at: 'tcp://10.67.22.27:35009'\n",
      "distributed.deploy.ssh - INFO - distributed.worker - INFO -       Start worker at:    tcp://10.67.22.91:41821\n",
      "distributed.deploy.ssh - INFO - distributed.worker - INFO -          Listening to:    tcp://10.67.22.91:41821\n",
      "distributed.deploy.ssh - INFO - distributed.worker - INFO -          dashboard at:          10.67.22.91:33487\n",
      "distributed.deploy.ssh - INFO - distributed.worker - INFO - Waiting to connect to:    tcp://10.67.22.39:46487\n",
      "distributed.deploy.ssh - INFO - distributed.worker - INFO - -------------------------------------------------\n",
      "distributed.deploy.ssh - INFO - distributed.worker - INFO -               Threads:                          2\n",
      "distributed.deploy.ssh - INFO - distributed.worker - INFO -                Memory:                   3.89 GiB\n",
      "distributed.deploy.ssh - INFO - distributed.worker - INFO -       Local Directory: /root/dask-worker-space/worker-_akpzqtz\n",
      "distributed.deploy.ssh - INFO - distributed.worker - INFO - -------------------------------------------------\n",
      "distributed.deploy.ssh - INFO - distributed.nanny - INFO -         Start Nanny at: 'tcp://10.67.22.27:45543'\n",
      "distributed.deploy.ssh - INFO - distributed.worker - INFO -       Start worker at:    tcp://10.67.22.91:37613\n",
      "distributed.deploy.ssh - INFO - distributed.worker - INFO -          Listening to:    tcp://10.67.22.91:37613\n",
      "distributed.deploy.ssh - INFO - distributed.worker - INFO -          dashboard at:          10.67.22.91:40903\n",
      "distributed.deploy.ssh - INFO - distributed.worker - INFO - Waiting to connect to:    tcp://10.67.22.39:46487\n",
      "distributed.deploy.ssh - INFO - distributed.worker - INFO - -------------------------------------------------\n",
      "distributed.deploy.ssh - INFO - distributed.worker - INFO -               Threads:                          2\n",
      "distributed.deploy.ssh - INFO - distributed.worker - INFO -                Memory:                   3.89 GiB\n",
      "distributed.deploy.ssh - INFO - distributed.worker - INFO -       Local Directory: /root/dask-worker-space/worker-1r4rpeb9\n",
      "distributed.deploy.ssh - INFO - distributed.worker - INFO - -------------------------------------------------\n",
      "distributed.deploy.ssh - INFO - distributed.worker - INFO -       Start worker at:    tcp://10.67.22.91:46521\n",
      "distributed.deploy.ssh - INFO - distributed.worker - INFO -          Listening to:    tcp://10.67.22.91:46521\n",
      "distributed.deploy.ssh - INFO - distributed.worker - INFO -          dashboard at:          10.67.22.91:41883\n",
      "distributed.deploy.ssh - INFO - distributed.worker - INFO - Waiting to connect to:    tcp://10.67.22.39:46487\n",
      "distributed.deploy.ssh - INFO - distributed.worker - INFO - -------------------------------------------------\n",
      "distributed.deploy.ssh - INFO - distributed.worker - INFO -               Threads:                          2\n",
      "distributed.deploy.ssh - INFO - distributed.worker - INFO -                Memory:                   3.89 GiB\n",
      "distributed.deploy.ssh - INFO - distributed.worker - INFO -       Local Directory: /root/dask-worker-space/worker-622x1u04\n",
      "distributed.deploy.ssh - INFO - distributed.worker - INFO - -------------------------------------------------\n",
      "distributed.deploy.ssh - INFO - distributed.worker - INFO -       Start worker at:    tcp://10.67.22.74:42109\n",
      "distributed.deploy.ssh - INFO - distributed.worker - INFO -          Listening to:    tcp://10.67.22.74:42109\n",
      "distributed.deploy.ssh - INFO - distributed.worker - INFO -          dashboard at:          10.67.22.74:39217\n",
      "distributed.deploy.ssh - INFO - distributed.worker - INFO - Waiting to connect to:    tcp://10.67.22.39:46487\n",
      "distributed.deploy.ssh - INFO - distributed.worker - INFO - -------------------------------------------------\n",
      "distributed.deploy.ssh - INFO - distributed.worker - INFO -               Threads:                          2\n",
      "distributed.deploy.ssh - INFO - distributed.worker - INFO -                Memory:                   3.89 GiB\n",
      "distributed.deploy.ssh - INFO - distributed.worker - INFO -       Local Directory: /root/dask-worker-space/worker-0b1ldbt5\n",
      "distributed.deploy.ssh - INFO - distributed.worker - INFO - -------------------------------------------------\n",
      "distributed.deploy.ssh - INFO - distributed.worker - INFO -       Start worker at:    tcp://10.67.22.74:40561\n",
      "distributed.deploy.ssh - INFO - distributed.worker - INFO -          Listening to:    tcp://10.67.22.74:40561\n",
      "distributed.deploy.ssh - INFO - distributed.worker - INFO -          dashboard at:          10.67.22.74:33083\n",
      "distributed.deploy.ssh - INFO - distributed.worker - INFO - Waiting to connect to:    tcp://10.67.22.39:46487\n",
      "distributed.deploy.ssh - INFO - distributed.worker - INFO - -------------------------------------------------\n",
      "distributed.deploy.ssh - INFO - distributed.worker - INFO -               Threads:                          2\n",
      "distributed.deploy.ssh - INFO - distributed.worker - INFO -                Memory:                   3.89 GiB\n",
      "distributed.deploy.ssh - INFO - distributed.worker - INFO -       Local Directory: /root/dask-worker-space/worker-eglfj9sk\n",
      "distributed.deploy.ssh - INFO - distributed.worker - INFO - -------------------------------------------------\n",
      "distributed.deploy.ssh - INFO - distributed.worker - INFO -       Start worker at:    tcp://10.67.22.91:42473\n",
      "distributed.deploy.ssh - INFO - distributed.worker - INFO -       Start worker at:    tcp://10.67.22.74:41649\n",
      "distributed.deploy.ssh - INFO - distributed.worker - INFO -          Listening to:    tcp://10.67.22.74:41649\n",
      "distributed.deploy.ssh - INFO - distributed.worker - INFO -          dashboard at:          10.67.22.74:38447\n",
      "distributed.deploy.ssh - INFO - distributed.worker - INFO - Waiting to connect to:    tcp://10.67.22.39:46487\n",
      "distributed.deploy.ssh - INFO - distributed.worker - INFO - -------------------------------------------------\n",
      "distributed.deploy.ssh - INFO - distributed.worker - INFO -               Threads:                          2\n",
      "distributed.deploy.ssh - INFO - distributed.worker - INFO -                Memory:                   3.89 GiB\n",
      "distributed.deploy.ssh - INFO - distributed.worker - INFO -       Local Directory: /root/dask-worker-space/worker-2hq9j6k1\n",
      "distributed.deploy.ssh - INFO - distributed.worker - INFO - -------------------------------------------------\n",
      "distributed.deploy.ssh - INFO - distributed.worker - INFO -       Start worker at:    tcp://10.67.22.74:33855\n",
      "distributed.deploy.ssh - INFO - distributed.worker - INFO -       Start worker at:    tcp://10.67.22.60:44363\n",
      "distributed.deploy.ssh - INFO - distributed.worker - INFO -          Listening to:    tcp://10.67.22.60:44363\n",
      "distributed.deploy.ssh - INFO - distributed.worker - INFO -          dashboard at:          10.67.22.60:36245\n",
      "distributed.deploy.ssh - INFO - distributed.worker - INFO - Waiting to connect to:    tcp://10.67.22.39:46487\n",
      "distributed.deploy.ssh - INFO - distributed.worker - INFO - -------------------------------------------------\n",
      "distributed.deploy.ssh - INFO - distributed.worker - INFO -               Threads:                          2\n",
      "distributed.deploy.ssh - INFO - distributed.worker - INFO -                Memory:                   3.89 GiB\n",
      "distributed.deploy.ssh - INFO - distributed.worker - INFO -       Local Directory: /root/dask-worker-space/worker-6fl8njg8\n",
      "distributed.deploy.ssh - INFO - distributed.worker - INFO - -------------------------------------------------\n",
      "distributed.deploy.ssh - INFO - distributed.worker - INFO -       Start worker at:    tcp://10.67.22.60:38171\n",
      "distributed.deploy.ssh - INFO - distributed.worker - INFO -          Listening to:    tcp://10.67.22.60:38171\n",
      "distributed.deploy.ssh - INFO - distributed.worker - INFO -          dashboard at:          10.67.22.60:45151\n",
      "distributed.deploy.ssh - INFO - distributed.worker - INFO - Waiting to connect to:    tcp://10.67.22.39:46487\n",
      "distributed.deploy.ssh - INFO - distributed.worker - INFO - -------------------------------------------------\n",
      "distributed.deploy.ssh - INFO - distributed.worker - INFO -               Threads:                          2\n",
      "distributed.deploy.ssh - INFO - distributed.worker - INFO -                Memory:                   3.89 GiB\n",
      "distributed.deploy.ssh - INFO - distributed.worker - INFO -       Local Directory: /root/dask-worker-space/worker-h42rjlir\n",
      "distributed.deploy.ssh - INFO - distributed.worker - INFO - -------------------------------------------------\n",
      "distributed.deploy.ssh - INFO - distributed.worker - INFO -       Start worker at:    tcp://10.67.22.60:38205\n",
      "distributed.deploy.ssh - INFO - distributed.worker - INFO -          Listening to:    tcp://10.67.22.60:38205\n",
      "distributed.deploy.ssh - INFO - distributed.worker - INFO -          dashboard at:          10.67.22.60:43369\n",
      "distributed.deploy.ssh - INFO - distributed.worker - INFO - Waiting to connect to:    tcp://10.67.22.39:46487\n",
      "distributed.deploy.ssh - INFO - distributed.worker - INFO - -------------------------------------------------\n",
      "distributed.deploy.ssh - INFO - distributed.worker - INFO -               Threads:                          2\n",
      "distributed.deploy.ssh - INFO - distributed.worker - INFO -                Memory:                   3.89 GiB\n",
      "distributed.deploy.ssh - INFO - distributed.worker - INFO -       Local Directory: /root/dask-worker-space/worker-9veuf40u\n",
      "distributed.deploy.ssh - INFO - distributed.worker - INFO - -------------------------------------------------\n",
      "distributed.deploy.ssh - INFO - distributed.worker - INFO -       Start worker at:    tcp://10.67.22.60:46097\n",
      "distributed.deploy.ssh - INFO - distributed.worker - INFO -       Start worker at:    tcp://10.67.22.27:46369\n",
      "distributed.deploy.ssh - INFO - distributed.worker - INFO -          Listening to:    tcp://10.67.22.27:46369\n",
      "distributed.deploy.ssh - INFO - distributed.worker - INFO -          dashboard at:          10.67.22.27:38691\n",
      "distributed.deploy.ssh - INFO - distributed.worker - INFO - Waiting to connect to:    tcp://10.67.22.39:46487\n",
      "distributed.deploy.ssh - INFO - distributed.worker - INFO - -------------------------------------------------\n",
      "distributed.deploy.ssh - INFO - distributed.worker - INFO -               Threads:                          2\n",
      "distributed.deploy.ssh - INFO - distributed.worker - INFO -                Memory:                   3.89 GiB\n",
      "distributed.deploy.ssh - INFO - distributed.worker - INFO -       Local Directory: /root/dask-worker-space/worker-n0y04jvy\n",
      "distributed.deploy.ssh - INFO - distributed.worker - INFO - -------------------------------------------------\n",
      "distributed.deploy.ssh - INFO - distributed.worker - INFO -       Start worker at:    tcp://10.67.22.27:35623\n",
      "distributed.deploy.ssh - INFO - distributed.worker - INFO -          Listening to:    tcp://10.67.22.27:35623\n",
      "distributed.deploy.ssh - INFO - distributed.worker - INFO -          dashboard at:          10.67.22.27:46555\n",
      "distributed.deploy.ssh - INFO - distributed.worker - INFO - Waiting to connect to:    tcp://10.67.22.39:46487\n",
      "distributed.deploy.ssh - INFO - distributed.worker - INFO - -------------------------------------------------\n",
      "distributed.deploy.ssh - INFO - distributed.worker - INFO -               Threads:                          2\n",
      "distributed.deploy.ssh - INFO - distributed.worker - INFO -                Memory:                   3.89 GiB\n",
      "distributed.deploy.ssh - INFO - distributed.worker - INFO -       Local Directory: /root/dask-worker-space/worker-kojazi99\n",
      "distributed.deploy.ssh - INFO - distributed.worker - INFO - -------------------------------------------------\n",
      "distributed.deploy.ssh - INFO - distributed.worker - INFO -       Start worker at:    tcp://10.67.22.27:43363\n",
      "distributed.deploy.ssh - INFO - distributed.worker - INFO -          Listening to:    tcp://10.67.22.27:43363\n",
      "distributed.deploy.ssh - INFO - distributed.worker - INFO -          dashboard at:          10.67.22.27:40957\n",
      "distributed.deploy.ssh - INFO - distributed.worker - INFO - Waiting to connect to:    tcp://10.67.22.39:46487\n",
      "distributed.deploy.ssh - INFO - distributed.worker - INFO - -------------------------------------------------\n",
      "distributed.deploy.ssh - INFO - distributed.worker - INFO -               Threads:                          2\n",
      "distributed.deploy.ssh - INFO - distributed.worker - INFO -                Memory:                   3.89 GiB\n",
      "distributed.deploy.ssh - INFO - distributed.worker - INFO -       Local Directory: /root/dask-worker-space/worker-r290yaoj\n",
      "distributed.deploy.ssh - INFO - distributed.worker - INFO - -------------------------------------------------\n",
      "distributed.deploy.ssh - INFO - distributed.worker - INFO -       Start worker at:    tcp://10.67.22.27:40281\n"
     ]
    }
   ],
   "source": [
    "cluster = SSHCluster(\n",
    "    [\"10.67.22.39\", \"10.67.22.74\", \"10.67.22.27\", \"10.67.22.91\", \"10.67.22.60\"],\n",
    "    connect_options   = {\"known_hosts\": \"/root/.ssh/known_hosts\"},\n",
    "    worker_options    = {\"nthreads\": 1, \"n_workers\": 4},\n",
    "    scheduler_options = {\"dashboard_address\": \":8777\"}\n",
    ")"
   ]
  },
  {
   "cell_type": "code",
   "execution_count": 3,
   "id": "9e2332a9-adb1-445f-b88a-20b8cc1a8c04",
   "metadata": {},
   "outputs": [],
   "source": [
    "client = Client(cluster)"
   ]
  },
  {
   "cell_type": "markdown",
   "id": "a35d11f8-e079-419a-b780-256470450c91",
   "metadata": {},
   "source": [
    "## Functions"
   ]
  },
  {
   "cell_type": "code",
   "execution_count": 4,
   "id": "fc5e7216-e4f4-4d62-aa72-8b168c2a52fc",
   "metadata": {},
   "outputs": [],
   "source": [
    "def load(path):\n",
    "    return np.load(path, allow_pickle=True)[\"a\"]\n",
    "\n",
    "def R_yz(theta_rot, phi_rot):\n",
    "    return np.array([[np.cos(phi_rot) * np.cos(theta_rot), -np.sin(phi_rot) * np.cos(theta_rot), np.sin(theta_rot)], \n",
    "                     [np.sin(phi_rot), np.cos(phi_rot), 0], \n",
    "                     [-np.sin(theta_rot) * np.cos(phi_rot), np.sin(theta_rot) * np.sin(phi_rot), np.cos(theta_rot)]])\n",
    "\n",
    "def convert_pmt_ids(input_ids, conversion_ids):\n",
    "    cd_ids  = np.array(conversion_ids[\"CdID\"])\n",
    "    pmt_ids = np.array(conversion_ids[\"PMTID\"])\n",
    "    mask    = np.isin(cd_ids, input_ids)\n",
    "    return pmt_ids[mask]\n",
    "\n",
    "def find_pmt_coord(pmt_positions, data_pmt_id):\n",
    "    return pmt_positions[\n",
    "        np.isin(pmt_positions.PMTID, data_pmt_id)\n",
    "        ].loc[:, ['x', 'y', 'z']].reset_index(drop=True).to_numpy()"
   ]
  },
  {
   "cell_type": "markdown",
   "id": "4727e6f0-367a-481a-9c0b-1b8bc1852ae4",
   "metadata": {},
   "source": [
    "## Load mapping data"
   ]
  },
  {
   "cell_type": "code",
   "execution_count": 5,
   "id": "819f6c7d-e841-4139-a090-0eb93287948d",
   "metadata": {},
   "outputs": [],
   "source": [
    "data_folder       = \"/root/data/data/real/train/data/\"\n",
    "pmt_pos_fname     = \"PMTPos_CD_LPMT.csv\"\n",
    "pmt_id_conv_fname = \"PMT_ID_conversion.csv\"\n",
    "train_data_fname  = \"raw_data_train_4.npz\"\n",
    "\n",
    "# test multiple files\n",
    "name_list = [\"raw_data_train_4.npz\", \"raw_data_train_5.npz\"]"
   ]
  },
  {
   "cell_type": "code",
   "execution_count": 6,
   "id": "59008a1b-0345-4ca1-aa3f-5bd48164512c",
   "metadata": {},
   "outputs": [],
   "source": [
    "pmt_positions     = pd.read_csv(pmt_pos_fname)\n",
    "pmt_id_conversion = pd.read_csv(pmt_id_conv_fname)\n",
    "conversion_ids    = pd.read_csv(pmt_id_conv_fname)"
   ]
  },
  {
   "cell_type": "markdown",
   "id": "5bbc81b3-f1b7-4309-8d29-21b057d97255",
   "metadata": {},
   "source": [
    "## Distributed Processing - rotation distributed by event"
   ]
  },
  {
   "cell_type": "code",
   "execution_count": 47,
   "id": "1fdc434a-c59d-4039-b41b-2ce364bf17e6",
   "metadata": {},
   "outputs": [],
   "source": [
    "def load_bag(path, Nevents):\n",
    "    data_np = load(path)\n",
    "    data_np = data_np[:, :Nevents]\n",
    "    return [np.vstack([ data_np[:, i][j] for j in range(3)]) for i in range(data_np.shape[1])]"
   ]
  },
  {
   "cell_type": "code",
   "execution_count": 75,
   "id": "51137391-e4c0-4e75-844a-ec2197dbb122",
   "metadata": {},
   "outputs": [],
   "source": [
    "Nevents = 10\n",
    "data_db = db.from_sequence(load_bag(data_folder+train_data_fname, Nevents), npartitions=32)"
   ]
  },
  {
   "cell_type": "code",
   "execution_count": 76,
   "id": "009c97cb-b484-4858-8770-18438cf778c8",
   "metadata": {},
   "outputs": [
    {
     "data": {
      "text/plain": [
       "dask.bag<from_sequence, npartitions=10>"
      ]
     },
     "execution_count": 76,
     "metadata": {},
     "output_type": "execute_result"
    }
   ],
   "source": [
    "data_db"
   ]
  },
  {
   "cell_type": "code",
   "execution_count": 77,
   "id": "6e6476d1-9a99-490e-8541-1011f4432a22",
   "metadata": {},
   "outputs": [],
   "source": [
    "def rotate_ev(data):\n",
    "\n",
    "    nonzeros_inds = data[2] != 0.0\n",
    "    data_pmt_id   = convert_pmt_ids(data[0][nonzeros_inds], conversion_ids)\n",
    "    pmt_coord     = find_pmt_coord(pmt_positions, data_pmt_id)\n",
    "\n",
    "    tot_charge = sum(data[1][nonzeros_inds])\n",
    "    x_cc       = sum(pmt_coord[:,0] * data[1][nonzeros_inds]) / tot_charge\n",
    "    y_cc       = sum(pmt_coord[:,1] * data[1][nonzeros_inds]) / tot_charge\n",
    "    z_cc       = sum(pmt_coord[:,2] * data[1][nonzeros_inds]) / tot_charge\n",
    "\n",
    "    theta_cc   = np.arctan2(\n",
    "        np.sqrt((x_cc)**2+(y_cc)**2), z_cc\n",
    "    )\n",
    "    phi_cc     = np.arctan2(y_cc, x_cc) \n",
    "\n",
    "    theta_rot = -theta_cc + np.pi/2\n",
    "    phi_rot   = -phi_cc\n",
    "    \n",
    "    # coord_new = np.matmul(R_yz(theta_rot, phi_rot), pmt_coord.T)\n",
    "    coord_new = np.matmul(\n",
    "        R_yz(theta_rot, phi_rot), pmt_coord.T\n",
    "    )\n",
    "\n",
    "    R = np.sqrt(np.sum(np.power(coord_new, 2), axis=0))\n",
    "\n",
    "    charge_hitt = np.vstack([data[1], data[2]])\n",
    "    charge_hitt = charge_hitt[:,nonzeros_inds]\n",
    "\n",
    "    rotated = np.vstack([coord_new, R, charge_hitt])\n",
    "    \n",
    "    del coord_new\n",
    "    del charge_hitt\n",
    "    del pmt_coord\n",
    "    \n",
    "    return rotated"
   ]
  },
  {
   "cell_type": "code",
   "execution_count": 78,
   "id": "062423ce-fb1d-4cce-b00a-d535a497a3c7",
   "metadata": {},
   "outputs": [],
   "source": [
    "rotated = db.map(rotate_ev, data_db)"
   ]
  },
  {
   "cell_type": "code",
   "execution_count": 79,
   "id": "3956df65-e349-4c69-9de4-353d10f6cbf6",
   "metadata": {},
   "outputs": [
    {
     "data": {
      "text/plain": [
       "[array([[-2.89144865e+03, -2.70198034e+03, -3.19063757e+03, ...,\n",
       "          4.21860803e+03,  2.79846057e+03,  4.13239725e+03],\n",
       "        [-5.95162994e+02,  1.94737878e+02,  8.37997156e+02, ...,\n",
       "          6.96275181e+02,  4.56375798e+02, -7.66247416e+02],\n",
       "        [ 1.91615892e+04,  1.91974627e+04,  1.91049414e+04, ...,\n",
       "         -1.89103078e+04, -1.91791953e+04, -1.89266308e+04],\n",
       "        [ 1.93876557e+04,  1.93876557e+04,  1.93876557e+04, ...,\n",
       "          1.93876557e+04,  1.93876557e+04,  1.93876557e+04],\n",
       "        [ 1.01690963e+00,  1.28989536e+00,  1.45731761e+00, ...,\n",
       "          8.40746671e-01,  6.20022943e-01,  5.43713687e-01],\n",
       "        [ 2.78543843e+02,  2.70036129e+02,  2.63317109e+02, ...,\n",
       "          2.72593537e+02,  2.43800823e+02,  4.18888109e+02]]),\n",
       " array([[ 1.88295146e+04,  1.86218740e+04,  1.84410912e+04, ...,\n",
       "         -1.84550681e+04, -1.83526882e+04, -1.88324052e+04],\n",
       "        [ 6.82396776e+02,  9.27488257e+02,  4.74162190e+02, ...,\n",
       "         -1.16047973e+03, -7.89136376e+02,  6.72077859e+02],\n",
       "        [ 4.56781227e+03,  5.31476883e+03,  5.96510846e+03, ...,\n",
       "         -5.91482876e+03, -6.28312549e+03, -4.55741381e+03],\n",
       "        [ 1.93876557e+04,  1.93876557e+04,  1.93876557e+04, ...,\n",
       "          1.94144650e+04,  1.94144679e+04,  1.93876557e+04],\n",
       "        [ 7.69295221e+00,  6.31635420e+00,  1.64953939e+00, ...,\n",
       "          9.63024509e-01,  1.00156736e+00,  5.64844231e+00],\n",
       "        [ 2.04543843e+02,  2.24036129e+02,  2.25031394e+02, ...,\n",
       "          4.00373843e+02,  2.08937414e+02,  3.22022109e+02]]),\n",
       " array([[-1.04795274e+04, -9.41550428e+03, -7.75016724e+03, ...,\n",
       "          8.07267343e+03,  9.85789453e+03,  9.18175656e+03],\n",
       "        [-2.43521818e+02, -1.37678372e+03,  8.46459427e+02, ...,\n",
       "          1.27974809e+02, -6.69933806e+02, -9.29875721e+02],\n",
       "        [ 1.63414092e+04,  1.69225976e+04,  1.78016507e+04, ...,\n",
       "         -1.76560759e+04, -1.66809562e+04, -1.70502748e+04],\n",
       "        [ 1.94144650e+04,  1.94144679e+04,  1.94340000e+04, ...,\n",
       "          1.94144650e+04,  1.93876557e+04,  1.93876557e+04],\n",
       "        [ 1.07703118e+00,  1.44051909e+00,  1.11252405e+00, ...,\n",
       "          9.00816506e-01,  1.31535002e+00,  6.55040419e-01],\n",
       "        [ 3.60458843e+02,  1.21228370e+03,  1.16993811e+03, ...,\n",
       "          2.86659557e+02,  2.54946129e+02,  8.55888109e+02]]),\n",
       " array([[-1.19503944e+04, -1.34166846e+04, -1.11292181e+04, ...,\n",
       "          1.31183145e+04,  1.23559110e+04,  1.25400930e+04],\n",
       "        [ 3.67011931e+02,  8.80183412e+02, -1.62528215e+02, ...,\n",
       "         -6.48509253e+02,  8.77729601e+02, -9.33104880e+02],\n",
       "        [ 1.52621941e+04,  1.40049742e+04,  1.59309273e+04, ...,\n",
       "         -1.42608013e+04, -1.49144979e+04, -1.47565774e+04],\n",
       "        [ 1.93876557e+04,  1.94144650e+04,  1.94340000e+04, ...,\n",
       "          1.93876557e+04,  1.93876557e+04,  1.93876557e+04],\n",
       "        [ 1.48166611e+00,  1.04547465e+00,  1.49147177e+00, ...,\n",
       "          2.76313151e-01,  1.68791622e+00,  9.55603863e-01],\n",
       "        [ 2.88602823e+02,  3.44261414e+02,  5.68777986e+02, ...,\n",
       "          7.65803271e+02,  2.42086537e+02,  2.36602394e+02]]),\n",
       " array([[-7.59885012e+03, -8.08840964e+03, -9.07322848e+03, ...,\n",
       "          9.59919356e+03,  9.05628013e+03,  7.99812439e+03],\n",
       "        [ 3.68450828e+01,  1.10542593e+03, -1.35799609e+03, ...,\n",
       "          3.64595352e+02,  9.02164416e+02,  4.60205100e+01],\n",
       "        [ 1.78655414e+04,  1.76146846e+04,  1.71100503e+04, ...,\n",
       "         -1.68405388e+04, -1.71187349e+04, -1.76609479e+04],\n",
       "        [ 1.94144650e+04,  1.94144650e+04,  1.94144650e+04, ...,\n",
       "          1.93876557e+04,  1.93876557e+04,  1.93876557e+04],\n",
       "        [ 1.12431920e+00,  7.53958229e-01,  1.05513705e+00, ...,\n",
       "          1.18216459e+00,  9.87024658e-01,  1.11094479e+00],\n",
       "        [ 3.38981537e+02,  4.99871986e+02,  1.87328843e+02, ...,\n",
       "          3.26593537e+02,  3.12397557e+02,  2.76432394e+02]]),\n",
       " array([[ 5.40186840e+03,  4.70438453e+03,  5.84026307e+03, ...,\n",
       "         -6.06258324e+03, -5.24315398e+03, -5.31075671e+03],\n",
       "        [ 9.33738033e+02, -1.12687609e+03, -1.33219602e+03, ...,\n",
       "          1.24312507e+03, -9.04784200e+02,  9.20870787e+02],\n",
       "        [ 1.85964821e+04,  1.88021403e+04,  1.84672181e+04, ...,\n",
       "         -1.84016654e+04, -1.86432802e+04, -1.86233470e+04],\n",
       "        [ 1.93876557e+04,  1.94144679e+04,  1.94144679e+04, ...,\n",
       "          1.94144679e+04,  1.93876557e+04,  1.93876557e+04],\n",
       "        [ 7.74717067e-01,  6.78339248e-01,  2.34148693e+00, ...,\n",
       "          1.32027641e+00,  2.06913453e+00,  1.02565705e+00],\n",
       "        [ 3.13954843e+02,  3.03728271e+02,  2.85658843e+02, ...,\n",
       "          4.04508843e+02,  3.24879251e+02,  3.40146680e+02]]),\n",
       " array([[-1.39559655e+04, -1.33424533e+04, -1.30254522e+04, ...,\n",
       "          1.29904421e+04,  1.35136000e+04,  1.38118266e+04],\n",
       "        [ 7.09055482e+02, -9.04609458e+02, -1.20264321e+03, ...,\n",
       "         -5.80114848e+02, -9.36985408e+02,  8.41927168e+02],\n",
       "        [ 1.34391020e+04,  1.40371584e+04,  1.43461735e+04, ...,\n",
       "         -1.43803016e+04, -1.38703233e+04, -1.35796097e+04],\n",
       "        [ 1.93876557e+04,  1.93876557e+04,  1.94144650e+04, ...,\n",
       "          1.93876557e+04,  1.93876557e+04,  1.93876557e+04],\n",
       "        [ 1.01802566e+00,  4.11500952e-01,  9.69455320e-01, ...,\n",
       "          1.20753057e+00,  2.00585214e+00,  9.63575741e-01],\n",
       "        [ 3.38036129e+02,  3.66312700e+02,  3.43547129e+02, ...,\n",
       "          1.21982613e+03,  2.77943680e+02,  5.38173823e+02]]),\n",
       " array([[-2.31635503e+03, -3.01437779e+03, -3.75957262e+03, ...,\n",
       "          4.43998178e+03,  3.18018762e+03,  3.86010194e+03],\n",
       "        [ 5.33261856e+02,  9.34849228e+02,  6.32476090e+02, ...,\n",
       "          1.12083335e+02, -9.31155230e+02, -4.98869466e+02],\n",
       "        [ 1.92413961e+04,  1.91290558e+04,  1.90091236e+04, ...,\n",
       "         -1.88996181e+04, -1.91023703e+04, -1.89929444e+04],\n",
       "        [ 1.93876557e+04,  1.93876557e+04,  1.93876557e+04, ...,\n",
       "          1.94144679e+04,  1.93876557e+04,  1.93876557e+04],\n",
       "        [ 1.08390635e+00,  9.32490113e-01,  4.81255520e+00, ...,\n",
       "          1.88623847e+00,  9.78837174e-01,  1.01237821e+00],\n",
       "        [ 3.07543843e+02,  7.57750414e+02,  2.80602823e+02, ...,\n",
       "          2.79325557e+02,  2.99718109e+02,  3.59412271e+02]]),\n",
       " array([[ 1.07431111e+04,  1.20965709e+04,  1.03119251e+04, ...,\n",
       "         -1.18560281e+04, -1.27937450e+04, -1.20586717e+04],\n",
       "        [-5.60505527e+02,  1.79208689e+02, -5.21581968e+02, ...,\n",
       "          2.35964039e+03, -6.90826248e+02, -3.40548062e+02],\n",
       "        [ 1.61292465e+04,  1.51499851e+04,  1.64412201e+04, ...,\n",
       "         -1.52166701e+04, -1.46124331e+04, -1.51774062e+04],\n",
       "        [ 1.93876557e+04,  1.93876557e+04,  1.94144679e+04, ...,\n",
       "          1.94339999e+04,  1.94340000e+04,  1.93876557e+04],\n",
       "        [ 1.51320654e+00,  1.27177394e+00,  9.55665090e-01, ...,\n",
       "          1.32589758e+00,  6.42093264e-01,  8.26636551e-01],\n",
       "        [ 2.75750414e+02,  2.62169843e+02,  2.85013986e+02, ...,\n",
       "          3.46303823e+02,  4.21645823e+02,  4.42517557e+02]]),\n",
       " array([[ 1.09351447e+04,  1.04209715e+04,  1.02701045e+04, ...,\n",
       "         -1.23987899e+04, -1.04346125e+04, -1.03110661e+04],\n",
       "        [-9.30021101e+02,  7.88393183e+02, -1.20178391e+03, ...,\n",
       "         -1.50910951e+03, -1.86906026e+03, -6.85308498e+02],\n",
       "        [ 1.59824549e+04,  1.63298188e+04,  1.64317412e+04, ...,\n",
       "         -1.48886854e+04, -1.62882115e+04, -1.64040685e+04],\n",
       "        [ 1.93876557e+04,  1.93876557e+04,  1.94144650e+04, ...,\n",
       "          1.94340000e+04,  1.94340000e+04,  1.93876557e+04],\n",
       "        [ 1.33016989e+00,  1.00168676e+00,  1.13834616e+00, ...,\n",
       "          1.29462801e+00,  1.38695248e+00,  1.18306325e+00],\n",
       "        [ 2.66750414e+02,  3.50954843e+02,  2.57397843e+02, ...,\n",
       "          3.65438557e+02,  4.83046843e+02,  3.40593537e+02]])]"
      ]
     },
     "execution_count": 79,
     "metadata": {},
     "output_type": "execute_result"
    }
   ],
   "source": [
    "rotated.compute()"
   ]
  },
  {
   "cell_type": "code",
   "execution_count": 74,
   "id": "eabfe040-28c2-4945-baa0-81ac22015d2f",
   "metadata": {},
   "outputs": [
    {
     "data": {
      "text/plain": [
       "dask.bag<from_sequence, npartitions=5>"
      ]
     },
     "execution_count": 74,
     "metadata": {},
     "output_type": "execute_result"
    }
   ],
   "source": [
    "data_db"
   ]
  },
  {
   "cell_type": "code",
   "execution_count": 80,
   "id": "f511233b-d429-444d-868f-1a452c07b75a",
   "metadata": {},
   "outputs": [
    {
     "ename": "CommClosedError",
     "evalue": "in <TCP (closed) ConnectionPool.run_function local=tcp://10.67.22.39:54382 remote=tcp://10.67.22.39:46487>: Stream is closed",
     "output_type": "error",
     "traceback": [
      "\u001b[0;31m---------------------------------------------------------------------------\u001b[0m",
      "\u001b[0;31mStreamClosedError\u001b[0m                         Traceback (most recent call last)",
      "File \u001b[0;32m~/anaconda3/lib/python3.9/site-packages/distributed/comm/tcp.py:211\u001b[0m, in \u001b[0;36mTCP.read\u001b[0;34m(self, deserializers)\u001b[0m\n\u001b[1;32m    210\u001b[0m \u001b[38;5;28;01mtry\u001b[39;00m:\n\u001b[0;32m--> 211\u001b[0m     frames_nbytes \u001b[38;5;241m=\u001b[39m \u001b[38;5;28;01mawait\u001b[39;00m stream\u001b[38;5;241m.\u001b[39mread_bytes(fmt_size)\n\u001b[1;32m    212\u001b[0m     (frames_nbytes,) \u001b[38;5;241m=\u001b[39m struct\u001b[38;5;241m.\u001b[39munpack(fmt, frames_nbytes)\n",
      "\u001b[0;31mStreamClosedError\u001b[0m: Stream is closed",
      "\nThe above exception was the direct cause of the following exception:\n",
      "\u001b[0;31mCommClosedError\u001b[0m                           Traceback (most recent call last)",
      "Input \u001b[0;32mIn [80]\u001b[0m, in \u001b[0;36m<cell line: 2>\u001b[0;34m()\u001b[0m\n\u001b[1;32m      1\u001b[0m \u001b[38;5;66;03m# if dashboard is still up then run this and should go down\u001b[39;00m\n\u001b[0;32m----> 2\u001b[0m \u001b[43mclient\u001b[49m\u001b[38;5;241;43m.\u001b[39;49m\u001b[43mrun_on_scheduler\u001b[49m\u001b[43m(\u001b[49m\u001b[38;5;28;43;01mlambda\u001b[39;49;00m\u001b[43m \u001b[49m\u001b[43mdask_scheduler\u001b[49m\u001b[38;5;241;43m=\u001b[39;49m\u001b[38;5;28;43;01mNone\u001b[39;49;00m\u001b[43m:\u001b[49m\u001b[43m \u001b[49m\n\u001b[1;32m      3\u001b[0m \u001b[43m    \u001b[49m\u001b[43mdask_scheduler\u001b[49m\u001b[38;5;241;43m.\u001b[39;49m\u001b[43mclose\u001b[49m\u001b[43m(\u001b[49m\u001b[43m)\u001b[49m\u001b[43m \u001b[49m\u001b[38;5;241;43m&\u001b[39;49m\u001b[43m \u001b[49m\u001b[43msys\u001b[49m\u001b[38;5;241;43m.\u001b[39;49m\u001b[43mexit\u001b[49m\u001b[43m(\u001b[49m\u001b[38;5;241;43m0\u001b[39;49m\u001b[43m)\u001b[49m\u001b[43m)\u001b[49m\n",
      "File \u001b[0;32m~/anaconda3/lib/python3.9/site-packages/distributed/client.py:2633\u001b[0m, in \u001b[0;36mClient.run_on_scheduler\u001b[0;34m(self, function, *args, **kwargs)\u001b[0m\n\u001b[1;32m   2595\u001b[0m \u001b[38;5;28;01mdef\u001b[39;00m \u001b[38;5;21mrun_on_scheduler\u001b[39m(\u001b[38;5;28mself\u001b[39m, function, \u001b[38;5;241m*\u001b[39margs, \u001b[38;5;241m*\u001b[39m\u001b[38;5;241m*\u001b[39mkwargs):\n\u001b[1;32m   2596\u001b[0m     \u001b[38;5;124;03m\"\"\"Run a function on the scheduler process\u001b[39;00m\n\u001b[1;32m   2597\u001b[0m \n\u001b[1;32m   2598\u001b[0m \u001b[38;5;124;03m    This is typically used for live debugging.  The function should take a\u001b[39;00m\n\u001b[0;32m   (...)\u001b[0m\n\u001b[1;32m   2631\u001b[0m \u001b[38;5;124;03m    Client.start_ipython_scheduler : Start an IPython session on scheduler\u001b[39;00m\n\u001b[1;32m   2632\u001b[0m \u001b[38;5;124;03m    \"\"\"\u001b[39;00m\n\u001b[0;32m-> 2633\u001b[0m     \u001b[38;5;28;01mreturn\u001b[39;00m \u001b[38;5;28;43mself\u001b[39;49m\u001b[38;5;241;43m.\u001b[39;49m\u001b[43msync\u001b[49m\u001b[43m(\u001b[49m\u001b[38;5;28;43mself\u001b[39;49m\u001b[38;5;241;43m.\u001b[39;49m\u001b[43m_run_on_scheduler\u001b[49m\u001b[43m,\u001b[49m\u001b[43m \u001b[49m\u001b[43mfunction\u001b[49m\u001b[43m,\u001b[49m\u001b[43m \u001b[49m\u001b[38;5;241;43m*\u001b[39;49m\u001b[43margs\u001b[49m\u001b[43m,\u001b[49m\u001b[43m \u001b[49m\u001b[38;5;241;43m*\u001b[39;49m\u001b[38;5;241;43m*\u001b[39;49m\u001b[43mkwargs\u001b[49m\u001b[43m)\u001b[49m\n",
      "File \u001b[0;32m~/anaconda3/lib/python3.9/site-packages/distributed/utils.py:311\u001b[0m, in \u001b[0;36mSyncMethodMixin.sync\u001b[0;34m(self, func, asynchronous, callback_timeout, *args, **kwargs)\u001b[0m\n\u001b[1;32m    309\u001b[0m     \u001b[38;5;28;01mreturn\u001b[39;00m future\n\u001b[1;32m    310\u001b[0m \u001b[38;5;28;01melse\u001b[39;00m:\n\u001b[0;32m--> 311\u001b[0m     \u001b[38;5;28;01mreturn\u001b[39;00m \u001b[43msync\u001b[49m\u001b[43m(\u001b[49m\n\u001b[1;32m    312\u001b[0m \u001b[43m        \u001b[49m\u001b[38;5;28;43mself\u001b[39;49m\u001b[38;5;241;43m.\u001b[39;49m\u001b[43mloop\u001b[49m\u001b[43m,\u001b[49m\u001b[43m \u001b[49m\u001b[43mfunc\u001b[49m\u001b[43m,\u001b[49m\u001b[43m \u001b[49m\u001b[38;5;241;43m*\u001b[39;49m\u001b[43margs\u001b[49m\u001b[43m,\u001b[49m\u001b[43m \u001b[49m\u001b[43mcallback_timeout\u001b[49m\u001b[38;5;241;43m=\u001b[39;49m\u001b[43mcallback_timeout\u001b[49m\u001b[43m,\u001b[49m\u001b[43m \u001b[49m\u001b[38;5;241;43m*\u001b[39;49m\u001b[38;5;241;43m*\u001b[39;49m\u001b[43mkwargs\u001b[49m\n\u001b[1;32m    313\u001b[0m \u001b[43m    \u001b[49m\u001b[43m)\u001b[49m\n",
      "File \u001b[0;32m~/anaconda3/lib/python3.9/site-packages/distributed/utils.py:378\u001b[0m, in \u001b[0;36msync\u001b[0;34m(loop, func, callback_timeout, *args, **kwargs)\u001b[0m\n\u001b[1;32m    376\u001b[0m \u001b[38;5;28;01mif\u001b[39;00m error:\n\u001b[1;32m    377\u001b[0m     typ, exc, tb \u001b[38;5;241m=\u001b[39m error\n\u001b[0;32m--> 378\u001b[0m     \u001b[38;5;28;01mraise\u001b[39;00m exc\u001b[38;5;241m.\u001b[39mwith_traceback(tb)\n\u001b[1;32m    379\u001b[0m \u001b[38;5;28;01melse\u001b[39;00m:\n\u001b[1;32m    380\u001b[0m     \u001b[38;5;28;01mreturn\u001b[39;00m result\n",
      "File \u001b[0;32m~/anaconda3/lib/python3.9/site-packages/distributed/utils.py:351\u001b[0m, in \u001b[0;36msync.<locals>.f\u001b[0;34m()\u001b[0m\n\u001b[1;32m    349\u001b[0m         future \u001b[38;5;241m=\u001b[39m asyncio\u001b[38;5;241m.\u001b[39mwait_for(future, callback_timeout)\n\u001b[1;32m    350\u001b[0m     future \u001b[38;5;241m=\u001b[39m asyncio\u001b[38;5;241m.\u001b[39mensure_future(future)\n\u001b[0;32m--> 351\u001b[0m     result \u001b[38;5;241m=\u001b[39m \u001b[38;5;28;01myield\u001b[39;00m future\n\u001b[1;32m    352\u001b[0m \u001b[38;5;28;01mexcept\u001b[39;00m \u001b[38;5;167;01mException\u001b[39;00m:\n\u001b[1;32m    353\u001b[0m     error \u001b[38;5;241m=\u001b[39m sys\u001b[38;5;241m.\u001b[39mexc_info()\n",
      "File \u001b[0;32m~/anaconda3/lib/python3.9/site-packages/tornado/gen.py:762\u001b[0m, in \u001b[0;36mRunner.run\u001b[0;34m(self)\u001b[0m\n\u001b[1;32m    759\u001b[0m exc_info \u001b[38;5;241m=\u001b[39m \u001b[38;5;28;01mNone\u001b[39;00m\n\u001b[1;32m    761\u001b[0m \u001b[38;5;28;01mtry\u001b[39;00m:\n\u001b[0;32m--> 762\u001b[0m     value \u001b[38;5;241m=\u001b[39m \u001b[43mfuture\u001b[49m\u001b[38;5;241;43m.\u001b[39;49m\u001b[43mresult\u001b[49m\u001b[43m(\u001b[49m\u001b[43m)\u001b[49m\n\u001b[1;32m    763\u001b[0m \u001b[38;5;28;01mexcept\u001b[39;00m \u001b[38;5;167;01mException\u001b[39;00m:\n\u001b[1;32m    764\u001b[0m     exc_info \u001b[38;5;241m=\u001b[39m sys\u001b[38;5;241m.\u001b[39mexc_info()\n",
      "File \u001b[0;32m~/anaconda3/lib/python3.9/site-packages/distributed/client.py:2583\u001b[0m, in \u001b[0;36mClient._run_on_scheduler\u001b[0;34m(self, function, wait, *args, **kwargs)\u001b[0m\n\u001b[1;32m   2582\u001b[0m \u001b[38;5;28;01masync\u001b[39;00m \u001b[38;5;28;01mdef\u001b[39;00m \u001b[38;5;21m_run_on_scheduler\u001b[39m(\u001b[38;5;28mself\u001b[39m, function, \u001b[38;5;241m*\u001b[39margs, wait\u001b[38;5;241m=\u001b[39m\u001b[38;5;28;01mTrue\u001b[39;00m, \u001b[38;5;241m*\u001b[39m\u001b[38;5;241m*\u001b[39mkwargs):\n\u001b[0;32m-> 2583\u001b[0m     response \u001b[38;5;241m=\u001b[39m \u001b[38;5;28;01mawait\u001b[39;00m \u001b[38;5;28mself\u001b[39m\u001b[38;5;241m.\u001b[39mscheduler\u001b[38;5;241m.\u001b[39mrun_function(\n\u001b[1;32m   2584\u001b[0m         function\u001b[38;5;241m=\u001b[39mdumps(function, protocol\u001b[38;5;241m=\u001b[39m\u001b[38;5;241m4\u001b[39m),\n\u001b[1;32m   2585\u001b[0m         args\u001b[38;5;241m=\u001b[39mdumps(args, protocol\u001b[38;5;241m=\u001b[39m\u001b[38;5;241m4\u001b[39m),\n\u001b[1;32m   2586\u001b[0m         kwargs\u001b[38;5;241m=\u001b[39mdumps(kwargs, protocol\u001b[38;5;241m=\u001b[39m\u001b[38;5;241m4\u001b[39m),\n\u001b[1;32m   2587\u001b[0m         wait\u001b[38;5;241m=\u001b[39mwait,\n\u001b[1;32m   2588\u001b[0m     )\n\u001b[1;32m   2589\u001b[0m     \u001b[38;5;28;01mif\u001b[39;00m response[\u001b[38;5;124m\"\u001b[39m\u001b[38;5;124mstatus\u001b[39m\u001b[38;5;124m\"\u001b[39m] \u001b[38;5;241m==\u001b[39m \u001b[38;5;124m\"\u001b[39m\u001b[38;5;124merror\u001b[39m\u001b[38;5;124m\"\u001b[39m:\n\u001b[1;32m   2590\u001b[0m         typ, exc, tb \u001b[38;5;241m=\u001b[39m clean_exception(\u001b[38;5;241m*\u001b[39m\u001b[38;5;241m*\u001b[39mresponse)\n",
      "File \u001b[0;32m~/anaconda3/lib/python3.9/site-packages/distributed/core.py:922\u001b[0m, in \u001b[0;36mPooledRPCCall.__getattr__.<locals>.send_recv_from_rpc\u001b[0;34m(**kwargs)\u001b[0m\n\u001b[1;32m    920\u001b[0m prev_name, comm\u001b[38;5;241m.\u001b[39mname \u001b[38;5;241m=\u001b[39m comm\u001b[38;5;241m.\u001b[39mname, \u001b[38;5;124m\"\u001b[39m\u001b[38;5;124mConnectionPool.\u001b[39m\u001b[38;5;124m\"\u001b[39m \u001b[38;5;241m+\u001b[39m key\n\u001b[1;32m    921\u001b[0m \u001b[38;5;28;01mtry\u001b[39;00m:\n\u001b[0;32m--> 922\u001b[0m     \u001b[38;5;28;01mreturn\u001b[39;00m \u001b[38;5;28;01mawait\u001b[39;00m send_recv(comm\u001b[38;5;241m=\u001b[39mcomm, op\u001b[38;5;241m=\u001b[39mkey, \u001b[38;5;241m*\u001b[39m\u001b[38;5;241m*\u001b[39mkwargs)\n\u001b[1;32m    923\u001b[0m \u001b[38;5;28;01mfinally\u001b[39;00m:\n\u001b[1;32m    924\u001b[0m     \u001b[38;5;28mself\u001b[39m\u001b[38;5;241m.\u001b[39mpool\u001b[38;5;241m.\u001b[39mreuse(\u001b[38;5;28mself\u001b[39m\u001b[38;5;241m.\u001b[39maddr, comm)\n",
      "File \u001b[0;32m~/anaconda3/lib/python3.9/site-packages/distributed/core.py:691\u001b[0m, in \u001b[0;36msend_recv\u001b[0;34m(comm, reply, serializers, deserializers, **kwargs)\u001b[0m\n\u001b[1;32m    689\u001b[0m \u001b[38;5;28;01mawait\u001b[39;00m comm\u001b[38;5;241m.\u001b[39mwrite(msg, serializers\u001b[38;5;241m=\u001b[39mserializers, on_error\u001b[38;5;241m=\u001b[39m\u001b[38;5;124m\"\u001b[39m\u001b[38;5;124mraise\u001b[39m\u001b[38;5;124m\"\u001b[39m)\n\u001b[1;32m    690\u001b[0m \u001b[38;5;28;01mif\u001b[39;00m reply:\n\u001b[0;32m--> 691\u001b[0m     response \u001b[38;5;241m=\u001b[39m \u001b[38;5;28;01mawait\u001b[39;00m comm\u001b[38;5;241m.\u001b[39mread(deserializers\u001b[38;5;241m=\u001b[39mdeserializers)\n\u001b[1;32m    692\u001b[0m \u001b[38;5;28;01melse\u001b[39;00m:\n\u001b[1;32m    693\u001b[0m     response \u001b[38;5;241m=\u001b[39m \u001b[38;5;28;01mNone\u001b[39;00m\n",
      "File \u001b[0;32m~/anaconda3/lib/python3.9/site-packages/distributed/comm/tcp.py:227\u001b[0m, in \u001b[0;36mTCP.read\u001b[0;34m(self, deserializers)\u001b[0m\n\u001b[1;32m    225\u001b[0m     \u001b[38;5;28mself\u001b[39m\u001b[38;5;241m.\u001b[39m_closed \u001b[38;5;241m=\u001b[39m \u001b[38;5;28;01mTrue\u001b[39;00m\n\u001b[1;32m    226\u001b[0m     \u001b[38;5;28;01mif\u001b[39;00m \u001b[38;5;129;01mnot\u001b[39;00m sys\u001b[38;5;241m.\u001b[39mis_finalizing():\n\u001b[0;32m--> 227\u001b[0m         \u001b[43mconvert_stream_closed_error\u001b[49m\u001b[43m(\u001b[49m\u001b[38;5;28;43mself\u001b[39;49m\u001b[43m,\u001b[49m\u001b[43m \u001b[49m\u001b[43me\u001b[49m\u001b[43m)\u001b[49m\n\u001b[1;32m    228\u001b[0m \u001b[38;5;28;01mexcept\u001b[39;00m \u001b[38;5;167;01mException\u001b[39;00m:\n\u001b[1;32m    229\u001b[0m     \u001b[38;5;66;03m# Some OSError or a another \"low-level\" exception. We do not really know what\u001b[39;00m\n\u001b[1;32m    230\u001b[0m     \u001b[38;5;66;03m# was already read from the underlying socket, so it is not even safe to retry\u001b[39;00m\n\u001b[1;32m    231\u001b[0m     \u001b[38;5;66;03m# here using the same stream. The only safe thing to do is to abort.\u001b[39;00m\n\u001b[1;32m    232\u001b[0m     \u001b[38;5;66;03m# (See also GitHub #4133).\u001b[39;00m\n\u001b[1;32m    233\u001b[0m     \u001b[38;5;28mself\u001b[39m\u001b[38;5;241m.\u001b[39mabort()\n",
      "File \u001b[0;32m~/anaconda3/lib/python3.9/site-packages/distributed/comm/tcp.py:135\u001b[0m, in \u001b[0;36mconvert_stream_closed_error\u001b[0;34m(obj, exc)\u001b[0m\n\u001b[1;32m    133\u001b[0m     \u001b[38;5;28;01mraise\u001b[39;00m CommClosedError(\u001b[38;5;124mf\u001b[39m\u001b[38;5;124m\"\u001b[39m\u001b[38;5;124min \u001b[39m\u001b[38;5;132;01m{\u001b[39;00mobj\u001b[38;5;132;01m}\u001b[39;00m\u001b[38;5;124m: \u001b[39m\u001b[38;5;132;01m{\u001b[39;00mexc\u001b[38;5;241m.\u001b[39m\u001b[38;5;18m__class__\u001b[39m\u001b[38;5;241m.\u001b[39m\u001b[38;5;18m__name__\u001b[39m\u001b[38;5;132;01m}\u001b[39;00m\u001b[38;5;124m: \u001b[39m\u001b[38;5;132;01m{\u001b[39;00mexc\u001b[38;5;132;01m}\u001b[39;00m\u001b[38;5;124m\"\u001b[39m) \u001b[38;5;28;01mfrom\u001b[39;00m \u001b[38;5;21;01mexc\u001b[39;00m\n\u001b[1;32m    134\u001b[0m \u001b[38;5;28;01melse\u001b[39;00m:\n\u001b[0;32m--> 135\u001b[0m     \u001b[38;5;28;01mraise\u001b[39;00m CommClosedError(\u001b[38;5;124mf\u001b[39m\u001b[38;5;124m\"\u001b[39m\u001b[38;5;124min \u001b[39m\u001b[38;5;132;01m{\u001b[39;00mobj\u001b[38;5;132;01m}\u001b[39;00m\u001b[38;5;124m: \u001b[39m\u001b[38;5;132;01m{\u001b[39;00mexc\u001b[38;5;132;01m}\u001b[39;00m\u001b[38;5;124m\"\u001b[39m) \u001b[38;5;28;01mfrom\u001b[39;00m \u001b[38;5;21;01mexc\u001b[39;00m\n",
      "\u001b[0;31mCommClosedError\u001b[0m: in <TCP (closed) ConnectionPool.run_function local=tcp://10.67.22.39:54382 remote=tcp://10.67.22.39:46487>: Stream is closed"
     ]
    }
   ],
   "source": [
    "# if dashboard is still up then run this and should go down\n",
    "client.run_on_scheduler(lambda dask_scheduler=None: \n",
    "    dask_scheduler.close() & sys.exit(0))\n",
    "\n",
    "# an error should occur but its fine "
   ]
  },
  {
   "cell_type": "code",
   "execution_count": null,
   "id": "8761d748-b1f0-4b28-8233-ee2d05c499bb",
   "metadata": {},
   "outputs": [],
   "source": []
  }
 ],
 "metadata": {
  "kernelspec": {
   "display_name": "Python 3 (ipykernel)",
   "language": "python",
   "name": "python3"
  },
  "language_info": {
   "codemirror_mode": {
    "name": "ipython",
    "version": 3
   },
   "file_extension": ".py",
   "mimetype": "text/x-python",
   "name": "python",
   "nbconvert_exporter": "python",
   "pygments_lexer": "ipython3",
   "version": "3.9.12"
  }
 },
 "nbformat": 4,
 "nbformat_minor": 5
}
